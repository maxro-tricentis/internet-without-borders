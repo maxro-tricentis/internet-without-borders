{
 "cells": [
  {
   "cell_type": "markdown",
   "id": "d773fd5e",
   "metadata": {},
   "source": [
    "# 1. Telegram Channel Scrapper"
   ]
  },
  {
   "cell_type": "markdown",
   "id": "7ebbbb5c",
   "metadata": {},
   "source": [
    "Автор задачи: Lantern\n",
    "\n",
    "Lantern’s Discover feature scraps content from a lot of sources so it’ll always be available for usage uncensored and to have a backup in case of a takedown.\n",
    "\n",
    "Make a Telegram channel scraper that either saves the content locally or returns a JSON blob that another service can consume to download the content.\n",
    "\n",
    "The content in this case are the videos and images for that channel."
   ]
  },
  {
   "cell_type": "code",
   "execution_count": 1,
   "id": "db6ad269",
   "metadata": {},
   "outputs": [],
   "source": [
    "#!python -m pip install --upgrade telethon"
   ]
  },
  {
   "cell_type": "code",
   "execution_count": 2,
   "id": "ba053b3f",
   "metadata": {},
   "outputs": [],
   "source": [
    "#!pip install xtarfile boto3"
   ]
  },
  {
   "cell_type": "code",
   "execution_count": 3,
   "id": "be0f5364",
   "metadata": {},
   "outputs": [],
   "source": [
    "import pandas as pd , os, json"
   ]
  },
  {
   "cell_type": "code",
   "execution_count": 4,
   "id": "41d3cb81",
   "metadata": {},
   "outputs": [],
   "source": [
    "from telethon import TelegramClient"
   ]
  },
  {
   "cell_type": "markdown",
   "id": "ac110474",
   "metadata": {},
   "source": [
    "# Get Telegram creds from json"
   ]
  },
  {
   "cell_type": "code",
   "execution_count": 5,
   "id": "5b6d36e0",
   "metadata": {},
   "outputs": [],
   "source": [
    "with open('creds.json') as json_file:\n",
    "    creds = json.load(json_file)\n",
    "    "
   ]
  },
  {
   "cell_type": "code",
   "execution_count": 6,
   "id": "1ef25fd0",
   "metadata": {},
   "outputs": [],
   "source": [
    "api_id = creds[\"api_id\"]\n",
    "api_hash = creds['api_hash']\n",
    "phone = creds['phone']\n",
    "username = creds[\"username\"]"
   ]
  },
  {
   "cell_type": "code",
   "execution_count": 7,
   "id": "df4128ac",
   "metadata": {},
   "outputs": [],
   "source": [
    "# One of telegram chanels for  scraping"
   ]
  },
  {
   "cell_type": "code",
   "execution_count": 8,
   "id": "595c094c",
   "metadata": {},
   "outputs": [],
   "source": [
    "chat = \"vatnoeboloto\"\n",
    "chat = \"YouTubot\"\n",
    "chat = \"Kushnar_media\"\n",
    "chat = \"insider_uke\""
   ]
  },
  {
   "cell_type": "markdown",
   "id": "18612ced",
   "metadata": {},
   "source": [
    "# Preparing working environment"
   ]
  },
  {
   "cell_type": "code",
   "execution_count": 9,
   "id": "69e83a54",
   "metadata": {},
   "outputs": [
    {
     "name": "stdout",
     "output_type": "stream",
     "text": [
      "https://t.me/insider_uke\n"
     ]
    }
   ],
   "source": [
    "chat_addr = \"https://t.me/{}\".format(chat)\n",
    "print(chat_addr)\n",
    "download_folder = \"download_of_{}\".format(chat)\n",
    "isExist = os.path.exists(download_folder)\n",
    "if not isExist:\n",
    "   os.makedirs(download_folder)"
   ]
  },
  {
   "cell_type": "markdown",
   "id": "c2af44a3",
   "metadata": {},
   "source": [
    "# scraping messages and media. media files are writing in local folder"
   ]
  },
  {
   "cell_type": "code",
   "execution_count": 24,
   "id": "5b0e645f",
   "metadata": {},
   "outputs": [],
   "source": [
    "data = [] \n",
    "n = 0\n",
    "n_max = 30\n",
    "async with TelegramClient(username, api_id, api_hash) as client:\n",
    "    async for message in client.iter_messages(chat_addr, reverse=False):\n",
    "        n = n + 1\n",
    "        if (n > n_max):\n",
    "            break\n",
    "        data.append([message, message.sender_id, message.text, message.date, message.id, message.post_author, message.views, message.peer_id.channel_id , message.photo ])\n",
    "        if (message.photo or message.video) :\n",
    "            await message.download_media(\"{}\\msg-{}-{}\".format(download_folder,message.peer_id.channel_id,message.id))\n"
   ]
  },
  {
   "cell_type": "markdown",
   "id": "1c61850f",
   "metadata": {},
   "source": [
    "# creating dataframe for observing and postproduction"
   ]
  },
  {
   "cell_type": "code",
   "execution_count": 23,
   "id": "10761cfe",
   "metadata": {},
   "outputs": [],
   "source": [
    "columns=[\"message\",\"message.sender_id\", \"message.text\",\" message.date\", \"message.id\",  \"message.post_author\", \"message.views\", \"message.peer_id.channel_id\", \"message.photo\" ]\n",
    "df = pd.DataFrame(data, columns=columns) # creates a new dataframe\n",
    "#df['message.text.removed_emojis'] = df.apply(lambda row : remove_emojis(row[\"message.text\"]), axis = 1)\n",
    "df = df.reset_index()"
   ]
  },
  {
   "cell_type": "markdown",
   "id": "1c6d83f0",
   "metadata": {},
   "source": [
    "# saving messages In json file"
   ]
  },
  {
   "cell_type": "code",
   "execution_count": 12,
   "id": "3fd9e243",
   "metadata": {
    "scrolled": true
   },
   "outputs": [],
   "source": [
    "filename = \"messages_of_channel-{}\".format(chat)\n",
    "df.to_csv('{}.csv'.format(filename), encoding='utf-8')\n",
    "df.drop(columns=['message',\"message.photo\"]).to_json('{}.json'.format(filename))"
   ]
  },
  {
   "cell_type": "code",
   "execution_count": 13,
   "id": "1e72ce76",
   "metadata": {},
   "outputs": [],
   "source": [
    "from os import walk\n",
    "media_list = []\n",
    "for (dirpath, dirnames, filenames) in walk(download_folder):\n",
    "    media_list.extend(filenames)\n",
    "    break\n",
    "#f    "
   ]
  },
  {
   "cell_type": "markdown",
   "id": "19018999",
   "metadata": {},
   "source": [
    "# creating tarfile with messages (csv, json) and subfolder with media"
   ]
  },
  {
   "cell_type": "code",
   "execution_count": 14,
   "id": "276b4585",
   "metadata": {},
   "outputs": [],
   "source": [
    "import xtarfile as tarfile\n",
    "with tarfile.open('{}.tar'.format(filename), 'w') as archive:\n",
    "    archive.add('{}.csv'.format(filename))\n",
    "    archive.add('{}.json'.format(filename))\n",
    "    for i in media_list:\n",
    "        archive.add('{}/{}'.format(download_folder,i))\n"
   ]
  },
  {
   "cell_type": "markdown",
   "id": "8002abe0",
   "metadata": {},
   "source": [
    "# uploading tar to AWS s3 bucket with public access "
   ]
  },
  {
   "cell_type": "code",
   "execution_count": 15,
   "id": "0c0aee78",
   "metadata": {},
   "outputs": [],
   "source": [
    "import boto3\n",
    "s3 = boto3.resource(\"s3\")"
   ]
  },
  {
   "cell_type": "code",
   "execution_count": 16,
   "id": "221f0c8e",
   "metadata": {},
   "outputs": [],
   "source": [
    "s3.meta.client.upload_file(\n",
    "    Filename='{}.tar'.format(filename),\n",
    "    Bucket=\"internet-without-borders\",\n",
    "    Key='{}.tar'.format(filename),\n",
    ")"
   ]
  },
  {
   "cell_type": "markdown",
   "id": "599165a5",
   "metadata": {},
   "source": [
    "# updating index.html in s3 bucket with public access "
   ]
  },
  {
   "cell_type": "code",
   "execution_count": 17,
   "id": "879f2c25",
   "metadata": {},
   "outputs": [
    {
     "data": {
      "text/plain": [
       "['<br><a href=messages_of_channel-Kushnar_media.tar>messages_of_channel-Kushnar_media.tar</a>',\n",
       " '<br><a href=messages_of_channel-YouTubot.tar>messages_of_channel-YouTubot.tar</a>',\n",
       " '<br><a href=messages_of_channel-insider_uke.tar>messages_of_channel-insider_uke.tar</a>',\n",
       " '<br><a href=messages_of_channel-vatnoeboloto.tar>messages_of_channel-vatnoeboloto.tar</a>']"
      ]
     },
     "execution_count": 17,
     "metadata": {},
     "output_type": "execute_result"
    }
   ],
   "source": [
    "my_bucket = s3.Bucket('internet-without-borders')\n",
    "s3_tars_list = []\n",
    "for my_bucket_object in my_bucket.objects.all():\n",
    "    if \".tar\" in my_bucket_object.key: \n",
    "        s3_tars_list.append(\"<br><a href={}>{}</a>\".format(my_bucket_object.key, my_bucket_object.key))\n",
    "s3_tars_list"
   ]
  },
  {
   "cell_type": "code",
   "execution_count": 18,
   "id": "529eca77",
   "metadata": {},
   "outputs": [
    {
     "data": {
      "text/plain": [
       "'<html><body><br><a href=messages_of_channel-Kushnar_media.tar>messages_of_channel-Kushnar_media.tar</a><br><a href=messages_of_channel-YouTubot.tar>messages_of_channel-YouTubot.tar</a><br><a href=messages_of_channel-insider_uke.tar>messages_of_channel-insider_uke.tar</a><br><a href=messages_of_channel-vatnoeboloto.tar>messages_of_channel-vatnoeboloto.tar</a></body></html>'"
      ]
     },
     "execution_count": 18,
     "metadata": {},
     "output_type": "execute_result"
    }
   ],
   "source": [
    "index_text = \"<html><body>{}</body></html>\".format(\"\".join(s3_tars_list))\n",
    "index_text"
   ]
  },
  {
   "cell_type": "code",
   "execution_count": 19,
   "id": "39b90bb9",
   "metadata": {},
   "outputs": [],
   "source": [
    "with open('index.html', 'w') as f:\n",
    "    f.write(index_text)"
   ]
  },
  {
   "cell_type": "code",
   "execution_count": 20,
   "id": "bcf00fb3",
   "metadata": {},
   "outputs": [],
   "source": [
    "s3.meta.client.upload_file(\n",
    "    Filename=\"index.html\",\n",
    "    Bucket=\"internet-without-borders\",\n",
    "    Key=\"index.html\",\n",
    ")"
   ]
  },
  {
   "cell_type": "markdown",
   "id": "1e6655ec",
   "metadata": {},
   "source": [
    "# TODO:\n",
    "## UTF-8 in messages.text\n",
    "## media download with multithreading \n",
    "## docker image\n",
    "## deploy in AWS EKS or AWS Lambda\n",
    "## public API"
   ]
  },
  {
   "cell_type": "code",
   "execution_count": null,
   "id": "6e63bd54",
   "metadata": {},
   "outputs": [],
   "source": []
  }
 ],
 "metadata": {
  "kernelspec": {
   "display_name": "Python 3 (ipykernel)",
   "language": "python",
   "name": "python3"
  },
  "language_info": {
   "codemirror_mode": {
    "name": "ipython",
    "version": 3
   },
   "file_extension": ".py",
   "mimetype": "text/x-python",
   "name": "python",
   "nbconvert_exporter": "python",
   "pygments_lexer": "ipython3",
   "version": "3.11.0rc2"
  }
 },
 "nbformat": 4,
 "nbformat_minor": 5
}
